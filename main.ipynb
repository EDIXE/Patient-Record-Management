{
 "cells": [
  {
   "cell_type": "code",
   "execution_count": 2,
   "metadata": {},
   "outputs": [],
   "source": [
    "from patient_record_mgmt import PatientRecordManagementSystem\n",
    "# Initialize the Patient Record Management System\n",
    "prms = PatientRecordManagementSystem()\n",
    "# Build the tree from the CSV file\n",
    "prms.build_tree_from_csv(\"data/patient_records.csv\")"
   ]
  },
  {
   "cell_type": "code",
   "execution_count": 3,
   "metadata": {},
   "outputs": [
    {
     "name": "stdout",
     "output_type": "stream",
     "text": [
      "All Patient Records (Initial):\n",
      "Patient ID: 1, Name: Peter Parker, Age: 35, Diagnosis: Flu, Blood Pressure: 120/80, Pulse: 70, Body Temperature: 37.0\n",
      "Patient ID: 3, Name: Clint Barton, Age: 45, Diagnosis: Hypertension, Blood Pressure: 140/90, Pulse: 80, Body Temperature: 36.9\n",
      "Patient ID: 5, Name: Tony Stark, Age: 60, Diagnosis: Arthritis, Blood Pressure: 125/78, Pulse: 72, Body Temperature: 36.7\n",
      "Patient ID: 6, Name: Natasha Romanoff, Age: 32, Diagnosis: Cold, Blood Pressure: 115/75, Pulse: 68, Body Temperature: 37.1\n",
      "Patient ID: 7, Name: Scott Lang, Age: 47, Diagnosis: Cancer, Blood Pressure: 135/88, Pulse: 77, Body Temperature: 37.0\n",
      "Patient ID: 8, Name: Drax, Age: 55, Diagnosis: Heart Disease, Blood Pressure: 145/92, Pulse: 82, Body Temperature: 36.8\n",
      "Patient ID: 9, Name: Wade Wilson, Age: 40, Diagnosis: Flu, Blood Pressure: 120/80, Pulse: 70, Body Temperature: 36.9\n",
      "Patient ID: 10, Name: Professor X, Age: 29, Diagnosis: Pneumonia, Blood Pressure: 130/85, Pulse: 75, Body Temperature: 37.3\n",
      "Patient ID: 11, Name: James Rhodes, Age: 65, Diagnosis: Diabetes, Blood Pressure: 140/90, Pulse: 80, Body Temperature: 37.0\n",
      "Patient ID: 12, Name: Carol Danvers, Age: 38, Diagnosis: Hypertension, Blood Pressure: 110/70, Pulse: 65, Body Temperature: 36.9\n",
      "Patient ID: 15, Name: Thor Odinson, Age: 35, Diagnosis: Cold, Blood Pressure: 115/75, Pulse: 68, Body Temperature: 37.0\n",
      "Patient ID: 16, Name: Mantis, Age: 28, Diagnosis: Cancer, Blood Pressure: 135/88, Pulse: 77, Body Temperature: 37.2\n",
      "Patient ID: 17, Name: Steve Rogers, Age: 55, Diagnosis: Heart Disease, Blood Pressure: 145/92, Pulse: 82, Body Temperature: 36.7\n",
      "Patient ID: 19, Name: Nebula, Age: 32, Diagnosis: Pneumonia, Blood Pressure: 120/80, Pulse: 70, Body Temperature: 36.8\n",
      "Patient ID: 20, Name: Vision, Age: 40, Diagnosis: Diabetes, Blood Pressure: 140/90, Pulse: 80, Body Temperature: 37.3\n",
      "Patient ID: 22, Name: Pepper Potts, Age: 38, Diagnosis: Asthma, Blood Pressure: 120/80, Pulse: 70, Body Temperature: 36.9\n",
      "Patient ID: 23, Name: Bruce Banner, Age: 50, Diagnosis: Arthritis, Blood Pressure: 125/78, Pulse: 72, Body Temperature: 37.1\n",
      "Patient ID: 24, Name: Maria Hill, Age: 45, Diagnosis: Cold, Blood Pressure: 115/75, Pulse: 68, Body Temperature: 36.8\n",
      "Patient ID: 25, Name: Natasha Romanoff, Age: 35, Diagnosis: Cancer, Blood Pressure: 135/88, Pulse: 77, Body Temperature: 37.0\n",
      "Patient ID: 27, Name: Stephen Strange, Age: 55, Diagnosis: Flu, Blood Pressure: 130/85, Pulse: 75, Body Temperature: 36.7\n",
      "Patient ID: 28, Name: Star-Lord, Age: 60, Diagnosis: Pneumonia, Blood Pressure: 120/80, Pulse: 70, Body Temperature: 37.1\n",
      "Patient ID: 29, Name: T'Challa, Age: 32, Diagnosis: Diabetes, Blood Pressure: 140/90, Pulse: 80, Body Temperature: 36.8\n",
      "Patient ID: 30, Name: Wanda Maximoff, Age: 40, Diagnosis: Hypertension, Blood Pressure: 110/70, Pulse: 65, Body Temperature: 37.3\n",
      "Patient ID: 31, Name: Rocket, Age: 65, Diagnosis: Asthma, Blood Pressure: 120/80, Pulse: 70, Body Temperature: 37.0\n",
      "Patient ID: 36, Name: Nick Fury, Age: 28, Diagnosis: Flu, Blood Pressure: 130/85, Pulse: 75, Body Temperature: 37.2\n",
      "Patient ID: 39, Name: Sam Wilson, Age: 32, Diagnosis: Hypertension, Blood Pressure: 110/70, Pulse: 65, Body Temperature: 36.8\n",
      "Patient ID: 40, Name: Bucky Barnes, Age: 40, Diagnosis: Asthma, Blood Pressure: 120/80, Pulse: 70, Body Temperature: 37.3\n",
      "Patient ID: 41, Name: Groot, Age: 65, Diagnosis: Arthritis, Blood Pressure: 125/78, Pulse: 72, Body Temperature: 37.0\n",
      "Patient ID: 45, Name: Loki Laufeyson, Age: 35, Diagnosis: Flu, Blood Pressure: 130/85, Pulse: 75, Body Temperature: 37.0\n",
      "Patient ID: 50, Name: Gamora, Age: 40, Diagnosis: Arthritis, Blood Pressure: 125/78, Pulse: 72, Body Temperature: 37.3\n",
      "Tree visualization saved as initial_tree.png.png\n"
     ]
    }
   ],
   "source": [
    "# Display all records (inorder traversal)\n",
    "print(\"All Patient Records (Initial):\")\n",
    "inorder_records = prms.bst.inorder_traversal(prms.bst.root)\n",
    "for record in inorder_records:\n",
    "    print(record)\n",
    "# Visualize the tree (initial)\n",
    "prms.visualize_tree(\"initial_tree.png\")"
   ]
  },
  {
   "cell_type": "code",
   "execution_count": 4,
   "metadata": {},
   "outputs": [
    {
     "name": "stdout",
     "output_type": "stream",
     "text": [
      "\n",
      "Search Results for Patient Records with IDs 2, 25, and 47:\n",
      "Patient ID 2 not found.\n",
      "Patient ID: 25, Name: Natasha Romanoff, Age: 35, Diagnosis: Cancer, Blood Pressure: 135/88, Pulse: 77, Body Temperature: 37.0\n",
      "Patient ID 47 not found.\n"
     ]
    }
   ],
   "source": [
    "# Search for specific patient records with IDs 2, 25, and 47\n",
    "patient_ids_to_search = [2, 25, 47]\n",
    "print(\"\\nSearch Results for Patient Records with IDs 2, 25, and 47:\")\n",
    "for patient_id in patient_ids_to_search:\n",
    "    result = prms.search_patient_record(patient_id)\n",
    "    print(result)"
   ]
  },
  {
   "cell_type": "code",
   "execution_count": null,
   "metadata": {},
   "outputs": [],
   "source": [
    "# Delete patient records with IDs 3, 10, and 30\n",
    "patient_ids_to_delete = [3, 10, 30]\n",
    "print(\"\\nDeleting Patient Records with IDs 3, 10, and 30...\")\n",
    "for patient_id in patient_ids_to_delete:\n",
    "    prms.delete_patient_record(patient_id)\n",
    "\n",
    "\n",
    "# Display all records after deletion\n",
    "print(\"\\nAll Patient Records (After Deletion):\")\n",
    "inorder_records_after = prms.bst.inorder_traversal(prms.bst.root)\n",
    "for record in inorder_records_after:\n",
    "    print(record)  # This will show the remaining patient IDs\n",
    "\n",
    "\n",
    "# Visualize the tree after deletion\n",
    "prms.visualize_tree(\"after_deletion_tree.png\")"
   ]
  },
  {
   "cell_type": "code",
   "execution_count": null,
   "metadata": {},
   "outputs": [],
   "source": [
    "# Insert new patient records into the BST\n",
    "new_records = [\n",
    "    (51, \"Jacob Marley\", 40, \"Migraine\", \"120/80\", 70, 37.0),\n",
    "    (58, \"Robert Shea\", 55, \"Back Pain\", \"130/85\", 75, 36.8),\n",
    "    (3, \"Joan Smith\", 33, \"Anxiety\", \"115/75\", 68, 37.1)\n",
    "]\n",
    "print(\"\\nInserting New Patient Records...\")\n",
    "for record in new_records:\n",
    "    prms.add_patient_record(*record)\n",
    "\n",
    "# Display all records after insertion\n",
    "print(\"\\nAll Patient Records (After Insertion):\")\n",
    "inorder_records_after = prms.bst.inorder_traversal(prms.bst.root)\n",
    "for record in inorder_records_after:\n",
    "    print(record)\n",
    "\n",
    "# Visualize the tree after insertion\n",
    "prms.visualize_tree(\"after_insertion_tree.png\")"
   ]
  },
  {
   "cell_type": "code",
   "execution_count": null,
   "metadata": {},
   "outputs": [],
   "source": [
    "# Perform and display preorder traversal\n",
    "print(\"\\nPreorder Traversal:\")\n",
    "preorder_records = prms.bst.preorder_traversal(prms.bst.root)\n",
    "for record in preorder_records:\n",
    "    print(record)"
   ]
  },
  {
   "cell_type": "code",
   "execution_count": null,
   "metadata": {},
   "outputs": [],
   "source": [
    "# Perform and display postorder traversal\n",
    "print(\"\\nPostorder Traversal:\")\n",
    "postorder_records = prms.bst.postorder_traversal(prms.bst.root)\n",
    "for record in postorder_records:\n",
    "    print(record)"
   ]
  }
 ],
 "metadata": {
  "kernelspec": {
   "display_name": "Python 3",
   "language": "python",
   "name": "python3"
  },
  "language_info": {
   "codemirror_mode": {
    "name": "ipython",
    "version": 3
   },
   "file_extension": ".py",
   "mimetype": "text/x-python",
   "name": "python",
   "nbconvert_exporter": "python",
   "pygments_lexer": "ipython3",
   "version": "3.11.10"
  }
 },
 "nbformat": 4,
 "nbformat_minor": 2
}
